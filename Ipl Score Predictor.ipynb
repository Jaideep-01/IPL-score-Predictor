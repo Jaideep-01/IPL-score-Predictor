{
 "cells": [
  {
   "cell_type": "markdown",
   "id": "21fdc0a4",
   "metadata": {},
   "source": [
    "# IPL Score Predictor"
   ]
  },
  {
   "cell_type": "code",
   "execution_count": 1,
   "id": "506106b7",
   "metadata": {},
   "outputs": [],
   "source": [
    "import numpy as np\n",
    "import pandas as pd\n",
    "import matplotlib.pyplot as plt\n",
    "import seaborn as sns"
   ]
  },
  {
   "cell_type": "code",
   "execution_count": 2,
   "id": "6d7cdce7",
   "metadata": {},
   "outputs": [
    {
     "name": "stdout",
     "output_type": "stream",
     "text": [
      "Dataset successfully Imported of Shape : (239693, 35)\n"
     ]
    }
   ],
   "source": [
    "ipl_df = pd.read_csv(\"ball_by_ball_ipl.csv\")\n",
    "print(f\"Dataset successfully Imported of Shape : {ipl_df.shape}\")"
   ]
  },
  {
   "cell_type": "code",
   "execution_count": 3,
   "id": "ffdd8cc4",
   "metadata": {
    "scrolled": true
   },
   "outputs": [
    {
     "data": {
      "text/html": [
       "<div>\n",
       "<style scoped>\n",
       "    .dataframe tbody tr th:only-of-type {\n",
       "        vertical-align: middle;\n",
       "    }\n",
       "\n",
       "    .dataframe tbody tr th {\n",
       "        vertical-align: top;\n",
       "    }\n",
       "\n",
       "    .dataframe thead th {\n",
       "        text-align: right;\n",
       "    }\n",
       "</style>\n",
       "<table border=\"1\" class=\"dataframe\">\n",
       "  <thead>\n",
       "    <tr style=\"text-align: right;\">\n",
       "      <th></th>\n",
       "      <th>Unnamed: 0</th>\n",
       "      <th>Match ID</th>\n",
       "      <th>Date</th>\n",
       "      <th>Venue</th>\n",
       "      <th>Bat First</th>\n",
       "      <th>Bat Second</th>\n",
       "      <th>Innings</th>\n",
       "      <th>Over</th>\n",
       "      <th>Ball</th>\n",
       "      <th>Batter</th>\n",
       "      <th>...</th>\n",
       "      <th>Winner</th>\n",
       "      <th>Chased Successfully</th>\n",
       "      <th>Total Batter Runs</th>\n",
       "      <th>Total Non Striker Runs</th>\n",
       "      <th>Batter Balls Faced</th>\n",
       "      <th>Non Striker Balls Faced</th>\n",
       "      <th>Player Out Runs</th>\n",
       "      <th>Player Out Balls Faced</th>\n",
       "      <th>Bowler Runs Conceded</th>\n",
       "      <th>Valid Ball</th>\n",
       "    </tr>\n",
       "  </thead>\n",
       "  <tbody>\n",
       "    <tr>\n",
       "      <th>0</th>\n",
       "      <td>0</td>\n",
       "      <td>1359507</td>\n",
       "      <td>2023-04-23</td>\n",
       "      <td>Eden Gardens</td>\n",
       "      <td>Chennai Super Kings</td>\n",
       "      <td>Kolkata Knight Riders</td>\n",
       "      <td>1</td>\n",
       "      <td>1</td>\n",
       "      <td>1</td>\n",
       "      <td>RD Gaikwad</td>\n",
       "      <td>...</td>\n",
       "      <td>Chennai Super Kings</td>\n",
       "      <td>0</td>\n",
       "      <td>4</td>\n",
       "      <td>0</td>\n",
       "      <td>1</td>\n",
       "      <td>0</td>\n",
       "      <td>NaN</td>\n",
       "      <td>NaN</td>\n",
       "      <td>4</td>\n",
       "      <td>1</td>\n",
       "    </tr>\n",
       "    <tr>\n",
       "      <th>1</th>\n",
       "      <td>1</td>\n",
       "      <td>1359507</td>\n",
       "      <td>2023-04-23</td>\n",
       "      <td>Eden Gardens</td>\n",
       "      <td>Chennai Super Kings</td>\n",
       "      <td>Kolkata Knight Riders</td>\n",
       "      <td>1</td>\n",
       "      <td>1</td>\n",
       "      <td>2</td>\n",
       "      <td>RD Gaikwad</td>\n",
       "      <td>...</td>\n",
       "      <td>Chennai Super Kings</td>\n",
       "      <td>0</td>\n",
       "      <td>4</td>\n",
       "      <td>0</td>\n",
       "      <td>2</td>\n",
       "      <td>0</td>\n",
       "      <td>NaN</td>\n",
       "      <td>NaN</td>\n",
       "      <td>0</td>\n",
       "      <td>1</td>\n",
       "    </tr>\n",
       "    <tr>\n",
       "      <th>2</th>\n",
       "      <td>2</td>\n",
       "      <td>1359507</td>\n",
       "      <td>2023-04-23</td>\n",
       "      <td>Eden Gardens</td>\n",
       "      <td>Chennai Super Kings</td>\n",
       "      <td>Kolkata Knight Riders</td>\n",
       "      <td>1</td>\n",
       "      <td>1</td>\n",
       "      <td>3</td>\n",
       "      <td>RD Gaikwad</td>\n",
       "      <td>...</td>\n",
       "      <td>Chennai Super Kings</td>\n",
       "      <td>0</td>\n",
       "      <td>4</td>\n",
       "      <td>0</td>\n",
       "      <td>3</td>\n",
       "      <td>0</td>\n",
       "      <td>NaN</td>\n",
       "      <td>NaN</td>\n",
       "      <td>0</td>\n",
       "      <td>1</td>\n",
       "    </tr>\n",
       "    <tr>\n",
       "      <th>3</th>\n",
       "      <td>3</td>\n",
       "      <td>1359507</td>\n",
       "      <td>2023-04-23</td>\n",
       "      <td>Eden Gardens</td>\n",
       "      <td>Chennai Super Kings</td>\n",
       "      <td>Kolkata Knight Riders</td>\n",
       "      <td>1</td>\n",
       "      <td>1</td>\n",
       "      <td>4</td>\n",
       "      <td>RD Gaikwad</td>\n",
       "      <td>...</td>\n",
       "      <td>Chennai Super Kings</td>\n",
       "      <td>0</td>\n",
       "      <td>4</td>\n",
       "      <td>0</td>\n",
       "      <td>4</td>\n",
       "      <td>0</td>\n",
       "      <td>NaN</td>\n",
       "      <td>NaN</td>\n",
       "      <td>0</td>\n",
       "      <td>1</td>\n",
       "    </tr>\n",
       "    <tr>\n",
       "      <th>4</th>\n",
       "      <td>4</td>\n",
       "      <td>1359507</td>\n",
       "      <td>2023-04-23</td>\n",
       "      <td>Eden Gardens</td>\n",
       "      <td>Chennai Super Kings</td>\n",
       "      <td>Kolkata Knight Riders</td>\n",
       "      <td>1</td>\n",
       "      <td>1</td>\n",
       "      <td>5</td>\n",
       "      <td>RD Gaikwad</td>\n",
       "      <td>...</td>\n",
       "      <td>Chennai Super Kings</td>\n",
       "      <td>0</td>\n",
       "      <td>5</td>\n",
       "      <td>0</td>\n",
       "      <td>5</td>\n",
       "      <td>0</td>\n",
       "      <td>NaN</td>\n",
       "      <td>NaN</td>\n",
       "      <td>1</td>\n",
       "      <td>1</td>\n",
       "    </tr>\n",
       "  </tbody>\n",
       "</table>\n",
       "<p>5 rows × 35 columns</p>\n",
       "</div>"
      ],
      "text/plain": [
       "   Unnamed: 0  Match ID        Date         Venue            Bat First  \\\n",
       "0           0   1359507  2023-04-23  Eden Gardens  Chennai Super Kings   \n",
       "1           1   1359507  2023-04-23  Eden Gardens  Chennai Super Kings   \n",
       "2           2   1359507  2023-04-23  Eden Gardens  Chennai Super Kings   \n",
       "3           3   1359507  2023-04-23  Eden Gardens  Chennai Super Kings   \n",
       "4           4   1359507  2023-04-23  Eden Gardens  Chennai Super Kings   \n",
       "\n",
       "              Bat Second  Innings  Over  Ball      Batter  ...  \\\n",
       "0  Kolkata Knight Riders        1     1     1  RD Gaikwad  ...   \n",
       "1  Kolkata Knight Riders        1     1     2  RD Gaikwad  ...   \n",
       "2  Kolkata Knight Riders        1     1     3  RD Gaikwad  ...   \n",
       "3  Kolkata Knight Riders        1     1     4  RD Gaikwad  ...   \n",
       "4  Kolkata Knight Riders        1     1     5  RD Gaikwad  ...   \n",
       "\n",
       "                Winner Chased Successfully  Total Batter Runs  \\\n",
       "0  Chennai Super Kings                   0                  4   \n",
       "1  Chennai Super Kings                   0                  4   \n",
       "2  Chennai Super Kings                   0                  4   \n",
       "3  Chennai Super Kings                   0                  4   \n",
       "4  Chennai Super Kings                   0                  5   \n",
       "\n",
       "   Total Non Striker Runs  Batter Balls Faced  Non Striker Balls Faced  \\\n",
       "0                       0                   1                        0   \n",
       "1                       0                   2                        0   \n",
       "2                       0                   3                        0   \n",
       "3                       0                   4                        0   \n",
       "4                       0                   5                        0   \n",
       "\n",
       "  Player Out Runs  Player Out Balls Faced Bowler Runs Conceded Valid Ball  \n",
       "0             NaN                     NaN                    4          1  \n",
       "1             NaN                     NaN                    0          1  \n",
       "2             NaN                     NaN                    0          1  \n",
       "3             NaN                     NaN                    0          1  \n",
       "4             NaN                     NaN                    1          1  \n",
       "\n",
       "[5 rows x 35 columns]"
      ]
     },
     "execution_count": 3,
     "metadata": {},
     "output_type": "execute_result"
    }
   ],
   "source": [
    "ipl_df.head()"
   ]
  },
  {
   "cell_type": "code",
   "execution_count": 4,
   "id": "5d7ab60c",
   "metadata": {},
   "outputs": [
    {
     "data": {
      "text/plain": [
       "Index(['Unnamed: 0', 'Match ID', 'Date', 'Venue', 'Bat First', 'Bat Second',\n",
       "       'Innings', 'Over', 'Ball', 'Batter', 'Non Striker', 'Bowler',\n",
       "       'Batter Runs', 'Extra Runs', 'Runs From Ball', 'Ball Rebowled',\n",
       "       'Extra Type', 'Wicket', 'Method', 'Player Out', 'Innings Runs',\n",
       "       'Innings Wickets', 'Target Score', 'Runs to Get', 'Balls Remaining',\n",
       "       'Winner', 'Chased Successfully', 'Total Batter Runs',\n",
       "       'Total Non Striker Runs', 'Batter Balls Faced',\n",
       "       'Non Striker Balls Faced', 'Player Out Runs', 'Player Out Balls Faced',\n",
       "       'Bowler Runs Conceded', 'Valid Ball'],\n",
       "      dtype='object')"
      ]
     },
     "execution_count": 4,
     "metadata": {},
     "output_type": "execute_result"
    }
   ],
   "source": [
    "ipl_df.columns"
   ]
  },
  {
   "cell_type": "code",
   "execution_count": 5,
   "id": "8f1c04f8",
   "metadata": {},
   "outputs": [],
   "source": [
    "# batting_team /\n",
    "# bowling team /\n",
    "# city\n",
    "# current score\n",
    "# ball left /\n",
    "# wickets left\n",
    "# current rr\n",
    "# last five"
   ]
  },
  {
   "cell_type": "code",
   "execution_count": 6,
   "id": "b129bf01",
   "metadata": {},
   "outputs": [],
   "source": [
    "df = ipl_df[['Bat First','Bat Second','Balls Remaining','Innings Runs','Venue']]"
   ]
  },
  {
   "cell_type": "code",
   "execution_count": 7,
   "id": "2c8f2893",
   "metadata": {},
   "outputs": [
    {
     "data": {
      "text/html": [
       "<div>\n",
       "<style scoped>\n",
       "    .dataframe tbody tr th:only-of-type {\n",
       "        vertical-align: middle;\n",
       "    }\n",
       "\n",
       "    .dataframe tbody tr th {\n",
       "        vertical-align: top;\n",
       "    }\n",
       "\n",
       "    .dataframe thead th {\n",
       "        text-align: right;\n",
       "    }\n",
       "</style>\n",
       "<table border=\"1\" class=\"dataframe\">\n",
       "  <thead>\n",
       "    <tr style=\"text-align: right;\">\n",
       "      <th></th>\n",
       "      <th>Bat First</th>\n",
       "      <th>Bat Second</th>\n",
       "      <th>Balls Remaining</th>\n",
       "      <th>Innings Runs</th>\n",
       "      <th>Venue</th>\n",
       "    </tr>\n",
       "  </thead>\n",
       "  <tbody>\n",
       "    <tr>\n",
       "      <th>0</th>\n",
       "      <td>Chennai Super Kings</td>\n",
       "      <td>Kolkata Knight Riders</td>\n",
       "      <td>119</td>\n",
       "      <td>4</td>\n",
       "      <td>Eden Gardens</td>\n",
       "    </tr>\n",
       "    <tr>\n",
       "      <th>1</th>\n",
       "      <td>Chennai Super Kings</td>\n",
       "      <td>Kolkata Knight Riders</td>\n",
       "      <td>118</td>\n",
       "      <td>4</td>\n",
       "      <td>Eden Gardens</td>\n",
       "    </tr>\n",
       "    <tr>\n",
       "      <th>2</th>\n",
       "      <td>Chennai Super Kings</td>\n",
       "      <td>Kolkata Knight Riders</td>\n",
       "      <td>117</td>\n",
       "      <td>4</td>\n",
       "      <td>Eden Gardens</td>\n",
       "    </tr>\n",
       "    <tr>\n",
       "      <th>3</th>\n",
       "      <td>Chennai Super Kings</td>\n",
       "      <td>Kolkata Knight Riders</td>\n",
       "      <td>116</td>\n",
       "      <td>4</td>\n",
       "      <td>Eden Gardens</td>\n",
       "    </tr>\n",
       "    <tr>\n",
       "      <th>4</th>\n",
       "      <td>Chennai Super Kings</td>\n",
       "      <td>Kolkata Knight Riders</td>\n",
       "      <td>115</td>\n",
       "      <td>5</td>\n",
       "      <td>Eden Gardens</td>\n",
       "    </tr>\n",
       "  </tbody>\n",
       "</table>\n",
       "</div>"
      ],
      "text/plain": [
       "             Bat First             Bat Second  Balls Remaining  Innings Runs  \\\n",
       "0  Chennai Super Kings  Kolkata Knight Riders              119             4   \n",
       "1  Chennai Super Kings  Kolkata Knight Riders              118             4   \n",
       "2  Chennai Super Kings  Kolkata Knight Riders              117             4   \n",
       "3  Chennai Super Kings  Kolkata Knight Riders              116             4   \n",
       "4  Chennai Super Kings  Kolkata Knight Riders              115             5   \n",
       "\n",
       "          Venue  \n",
       "0  Eden Gardens  \n",
       "1  Eden Gardens  \n",
       "2  Eden Gardens  \n",
       "3  Eden Gardens  \n",
       "4  Eden Gardens  "
      ]
     },
     "execution_count": 7,
     "metadata": {},
     "output_type": "execute_result"
    }
   ],
   "source": [
    "df.head()"
   ]
  },
  {
   "cell_type": "code",
   "execution_count": 8,
   "id": "96333f33",
   "metadata": {},
   "outputs": [
    {
     "name": "stderr",
     "output_type": "stream",
     "text": [
      "C:\\Users\\jaide\\AppData\\Local\\Temp\\ipykernel_784\\1492319264.py:1: SettingWithCopyWarning: \n",
      "A value is trying to be set on a copy of a slice from a DataFrame.\n",
      "Try using .loc[row_indexer,col_indexer] = value instead\n",
      "\n",
      "See the caveats in the documentation: https://pandas.pydata.org/pandas-docs/stable/user_guide/indexing.html#returning-a-view-versus-a-copy\n",
      "  df['balls bowled'] = 120 - ipl_df['Balls Remaining']\n"
     ]
    }
   ],
   "source": [
    "df['balls bowled'] = 120 - ipl_df['Balls Remaining']"
   ]
  },
  {
   "cell_type": "code",
   "execution_count": 9,
   "id": "e9f73289",
   "metadata": {},
   "outputs": [],
   "source": [
    "# cities = np.where(ipl_df['city'].isnull(),ipl_df['venue'].str.split().apply(lambda x:x[0]),ipl_df['city'])"
   ]
  },
  {
   "cell_type": "code",
   "execution_count": 10,
   "id": "e65d2aca",
   "metadata": {
    "scrolled": true
   },
   "outputs": [
    {
     "name": "stderr",
     "output_type": "stream",
     "text": [
      "C:\\Users\\jaide\\AppData\\Local\\Temp\\ipykernel_784\\2572894961.py:1: SettingWithCopyWarning: \n",
      "A value is trying to be set on a copy of a slice from a DataFrame.\n",
      "Try using .loc[row_indexer,col_indexer] = value instead\n",
      "\n",
      "See the caveats in the documentation: https://pandas.pydata.org/pandas-docs/stable/user_guide/indexing.html#returning-a-view-versus-a-copy\n",
      "  df['wicket_left'] = 10 - ipl_df['Innings Wickets']\n"
     ]
    }
   ],
   "source": [
    "df['wicket_left'] = 10 - ipl_df['Innings Wickets']"
   ]
  },
  {
   "cell_type": "code",
   "execution_count": 11,
   "id": "ae7c35d3",
   "metadata": {},
   "outputs": [
    {
     "data": {
      "text/html": [
       "<div>\n",
       "<style scoped>\n",
       "    .dataframe tbody tr th:only-of-type {\n",
       "        vertical-align: middle;\n",
       "    }\n",
       "\n",
       "    .dataframe tbody tr th {\n",
       "        vertical-align: top;\n",
       "    }\n",
       "\n",
       "    .dataframe thead th {\n",
       "        text-align: right;\n",
       "    }\n",
       "</style>\n",
       "<table border=\"1\" class=\"dataframe\">\n",
       "  <thead>\n",
       "    <tr style=\"text-align: right;\">\n",
       "      <th></th>\n",
       "      <th>Bat First</th>\n",
       "      <th>Bat Second</th>\n",
       "      <th>Balls Remaining</th>\n",
       "      <th>Innings Runs</th>\n",
       "      <th>Venue</th>\n",
       "      <th>balls bowled</th>\n",
       "      <th>wicket_left</th>\n",
       "    </tr>\n",
       "  </thead>\n",
       "  <tbody>\n",
       "    <tr>\n",
       "      <th>0</th>\n",
       "      <td>Chennai Super Kings</td>\n",
       "      <td>Kolkata Knight Riders</td>\n",
       "      <td>119</td>\n",
       "      <td>4</td>\n",
       "      <td>Eden Gardens</td>\n",
       "      <td>1</td>\n",
       "      <td>10</td>\n",
       "    </tr>\n",
       "    <tr>\n",
       "      <th>1</th>\n",
       "      <td>Chennai Super Kings</td>\n",
       "      <td>Kolkata Knight Riders</td>\n",
       "      <td>118</td>\n",
       "      <td>4</td>\n",
       "      <td>Eden Gardens</td>\n",
       "      <td>2</td>\n",
       "      <td>10</td>\n",
       "    </tr>\n",
       "    <tr>\n",
       "      <th>2</th>\n",
       "      <td>Chennai Super Kings</td>\n",
       "      <td>Kolkata Knight Riders</td>\n",
       "      <td>117</td>\n",
       "      <td>4</td>\n",
       "      <td>Eden Gardens</td>\n",
       "      <td>3</td>\n",
       "      <td>10</td>\n",
       "    </tr>\n",
       "    <tr>\n",
       "      <th>3</th>\n",
       "      <td>Chennai Super Kings</td>\n",
       "      <td>Kolkata Knight Riders</td>\n",
       "      <td>116</td>\n",
       "      <td>4</td>\n",
       "      <td>Eden Gardens</td>\n",
       "      <td>4</td>\n",
       "      <td>10</td>\n",
       "    </tr>\n",
       "    <tr>\n",
       "      <th>4</th>\n",
       "      <td>Chennai Super Kings</td>\n",
       "      <td>Kolkata Knight Riders</td>\n",
       "      <td>115</td>\n",
       "      <td>5</td>\n",
       "      <td>Eden Gardens</td>\n",
       "      <td>5</td>\n",
       "      <td>10</td>\n",
       "    </tr>\n",
       "  </tbody>\n",
       "</table>\n",
       "</div>"
      ],
      "text/plain": [
       "             Bat First             Bat Second  Balls Remaining  Innings Runs  \\\n",
       "0  Chennai Super Kings  Kolkata Knight Riders              119             4   \n",
       "1  Chennai Super Kings  Kolkata Knight Riders              118             4   \n",
       "2  Chennai Super Kings  Kolkata Knight Riders              117             4   \n",
       "3  Chennai Super Kings  Kolkata Knight Riders              116             4   \n",
       "4  Chennai Super Kings  Kolkata Knight Riders              115             5   \n",
       "\n",
       "          Venue  balls bowled  wicket_left  \n",
       "0  Eden Gardens             1           10  \n",
       "1  Eden Gardens             2           10  \n",
       "2  Eden Gardens             3           10  \n",
       "3  Eden Gardens             4           10  \n",
       "4  Eden Gardens             5           10  "
      ]
     },
     "execution_count": 11,
     "metadata": {},
     "output_type": "execute_result"
    }
   ],
   "source": [
    "df.head()"
   ]
  },
  {
   "cell_type": "code",
   "execution_count": 12,
   "id": "89f81da1",
   "metadata": {},
   "outputs": [],
   "source": [
    "#renaming the columns\n",
    "df = df.rename(columns={'Bat First': 'batting_team', 'Bat Second': 'bowling_team', 'Balls Remaining': 'balls_left', \n",
    "                        'Innings Runs': 'current_score'})"
   ]
  },
  {
   "cell_type": "code",
   "execution_count": 13,
   "id": "71bd1101",
   "metadata": {},
   "outputs": [
    {
     "data": {
      "text/html": [
       "<div>\n",
       "<style scoped>\n",
       "    .dataframe tbody tr th:only-of-type {\n",
       "        vertical-align: middle;\n",
       "    }\n",
       "\n",
       "    .dataframe tbody tr th {\n",
       "        vertical-align: top;\n",
       "    }\n",
       "\n",
       "    .dataframe thead th {\n",
       "        text-align: right;\n",
       "    }\n",
       "</style>\n",
       "<table border=\"1\" class=\"dataframe\">\n",
       "  <thead>\n",
       "    <tr style=\"text-align: right;\">\n",
       "      <th></th>\n",
       "      <th>batting_team</th>\n",
       "      <th>bowling_team</th>\n",
       "      <th>balls_left</th>\n",
       "      <th>current_score</th>\n",
       "      <th>Venue</th>\n",
       "      <th>balls bowled</th>\n",
       "      <th>wicket_left</th>\n",
       "    </tr>\n",
       "  </thead>\n",
       "  <tbody>\n",
       "    <tr>\n",
       "      <th>0</th>\n",
       "      <td>Chennai Super Kings</td>\n",
       "      <td>Kolkata Knight Riders</td>\n",
       "      <td>119</td>\n",
       "      <td>4</td>\n",
       "      <td>Eden Gardens</td>\n",
       "      <td>1</td>\n",
       "      <td>10</td>\n",
       "    </tr>\n",
       "    <tr>\n",
       "      <th>1</th>\n",
       "      <td>Chennai Super Kings</td>\n",
       "      <td>Kolkata Knight Riders</td>\n",
       "      <td>118</td>\n",
       "      <td>4</td>\n",
       "      <td>Eden Gardens</td>\n",
       "      <td>2</td>\n",
       "      <td>10</td>\n",
       "    </tr>\n",
       "    <tr>\n",
       "      <th>2</th>\n",
       "      <td>Chennai Super Kings</td>\n",
       "      <td>Kolkata Knight Riders</td>\n",
       "      <td>117</td>\n",
       "      <td>4</td>\n",
       "      <td>Eden Gardens</td>\n",
       "      <td>3</td>\n",
       "      <td>10</td>\n",
       "    </tr>\n",
       "    <tr>\n",
       "      <th>3</th>\n",
       "      <td>Chennai Super Kings</td>\n",
       "      <td>Kolkata Knight Riders</td>\n",
       "      <td>116</td>\n",
       "      <td>4</td>\n",
       "      <td>Eden Gardens</td>\n",
       "      <td>4</td>\n",
       "      <td>10</td>\n",
       "    </tr>\n",
       "    <tr>\n",
       "      <th>4</th>\n",
       "      <td>Chennai Super Kings</td>\n",
       "      <td>Kolkata Knight Riders</td>\n",
       "      <td>115</td>\n",
       "      <td>5</td>\n",
       "      <td>Eden Gardens</td>\n",
       "      <td>5</td>\n",
       "      <td>10</td>\n",
       "    </tr>\n",
       "  </tbody>\n",
       "</table>\n",
       "</div>"
      ],
      "text/plain": [
       "          batting_team           bowling_team  balls_left  current_score  \\\n",
       "0  Chennai Super Kings  Kolkata Knight Riders         119              4   \n",
       "1  Chennai Super Kings  Kolkata Knight Riders         118              4   \n",
       "2  Chennai Super Kings  Kolkata Knight Riders         117              4   \n",
       "3  Chennai Super Kings  Kolkata Knight Riders         116              4   \n",
       "4  Chennai Super Kings  Kolkata Knight Riders         115              5   \n",
       "\n",
       "          Venue  balls bowled  wicket_left  \n",
       "0  Eden Gardens             1           10  \n",
       "1  Eden Gardens             2           10  \n",
       "2  Eden Gardens             3           10  \n",
       "3  Eden Gardens             4           10  \n",
       "4  Eden Gardens             5           10  "
      ]
     },
     "execution_count": 13,
     "metadata": {},
     "output_type": "execute_result"
    }
   ],
   "source": [
    "df.head()"
   ]
  },
  {
   "cell_type": "code",
   "execution_count": 14,
   "id": "ff5227cd",
   "metadata": {},
   "outputs": [
    {
     "name": "stderr",
     "output_type": "stream",
     "text": [
      "C:\\Users\\jaide\\AppData\\Local\\Temp\\ipykernel_784\\1499262896.py:6: FutureWarning: Dropping of nuisance columns in rolling operations is deprecated; in a future version this will raise TypeError. Select only valid columns before calling the operation. Dropped columns were Index(['Bat First', 'Bat Second', 'Batter', 'Bowler', 'Date', 'Extra Type',\n",
      "       'Method', 'Non Striker', 'Player Out', 'Venue', 'Winner'],\n",
      "      dtype='object')\n",
      "  last_five.extend(groups.get_group(id).rolling(window=30).sum()['Runs From Ball'].values.tolist())\n"
     ]
    }
   ],
   "source": [
    "groups = ipl_df.groupby('Match ID')\n",
    "\n",
    "match_ids = ipl_df['Match ID'].unique()\n",
    "last_five = []\n",
    "for id in match_ids:\n",
    "    last_five.extend(groups.get_group(id).rolling(window=30).sum()['Runs From Ball'].values.tolist())"
   ]
  },
  {
   "cell_type": "code",
   "execution_count": 15,
   "id": "7654fb4a",
   "metadata": {},
   "outputs": [],
   "source": [
    "df['last_five'] = last_five"
   ]
  },
  {
   "cell_type": "code",
   "execution_count": 16,
   "id": "ee13fd22",
   "metadata": {},
   "outputs": [],
   "source": [
    "df['runs_x'] = ipl_df['Target Score'] - 1"
   ]
  },
  {
   "cell_type": "code",
   "execution_count": 17,
   "id": "a4c4ae90",
   "metadata": {},
   "outputs": [
    {
     "data": {
      "text/html": [
       "<div>\n",
       "<style scoped>\n",
       "    .dataframe tbody tr th:only-of-type {\n",
       "        vertical-align: middle;\n",
       "    }\n",
       "\n",
       "    .dataframe tbody tr th {\n",
       "        vertical-align: top;\n",
       "    }\n",
       "\n",
       "    .dataframe thead th {\n",
       "        text-align: right;\n",
       "    }\n",
       "</style>\n",
       "<table border=\"1\" class=\"dataframe\">\n",
       "  <thead>\n",
       "    <tr style=\"text-align: right;\">\n",
       "      <th></th>\n",
       "      <th>batting_team</th>\n",
       "      <th>bowling_team</th>\n",
       "      <th>balls_left</th>\n",
       "      <th>current_score</th>\n",
       "      <th>Venue</th>\n",
       "      <th>balls bowled</th>\n",
       "      <th>wicket_left</th>\n",
       "      <th>last_five</th>\n",
       "      <th>runs_x</th>\n",
       "    </tr>\n",
       "  </thead>\n",
       "  <tbody>\n",
       "    <tr>\n",
       "      <th>0</th>\n",
       "      <td>Chennai Super Kings</td>\n",
       "      <td>Kolkata Knight Riders</td>\n",
       "      <td>119</td>\n",
       "      <td>4</td>\n",
       "      <td>Eden Gardens</td>\n",
       "      <td>1</td>\n",
       "      <td>10</td>\n",
       "      <td>NaN</td>\n",
       "      <td>235</td>\n",
       "    </tr>\n",
       "    <tr>\n",
       "      <th>1</th>\n",
       "      <td>Chennai Super Kings</td>\n",
       "      <td>Kolkata Knight Riders</td>\n",
       "      <td>118</td>\n",
       "      <td>4</td>\n",
       "      <td>Eden Gardens</td>\n",
       "      <td>2</td>\n",
       "      <td>10</td>\n",
       "      <td>NaN</td>\n",
       "      <td>235</td>\n",
       "    </tr>\n",
       "    <tr>\n",
       "      <th>2</th>\n",
       "      <td>Chennai Super Kings</td>\n",
       "      <td>Kolkata Knight Riders</td>\n",
       "      <td>117</td>\n",
       "      <td>4</td>\n",
       "      <td>Eden Gardens</td>\n",
       "      <td>3</td>\n",
       "      <td>10</td>\n",
       "      <td>NaN</td>\n",
       "      <td>235</td>\n",
       "    </tr>\n",
       "    <tr>\n",
       "      <th>3</th>\n",
       "      <td>Chennai Super Kings</td>\n",
       "      <td>Kolkata Knight Riders</td>\n",
       "      <td>116</td>\n",
       "      <td>4</td>\n",
       "      <td>Eden Gardens</td>\n",
       "      <td>4</td>\n",
       "      <td>10</td>\n",
       "      <td>NaN</td>\n",
       "      <td>235</td>\n",
       "    </tr>\n",
       "    <tr>\n",
       "      <th>4</th>\n",
       "      <td>Chennai Super Kings</td>\n",
       "      <td>Kolkata Knight Riders</td>\n",
       "      <td>115</td>\n",
       "      <td>5</td>\n",
       "      <td>Eden Gardens</td>\n",
       "      <td>5</td>\n",
       "      <td>10</td>\n",
       "      <td>NaN</td>\n",
       "      <td>235</td>\n",
       "    </tr>\n",
       "  </tbody>\n",
       "</table>\n",
       "</div>"
      ],
      "text/plain": [
       "          batting_team           bowling_team  balls_left  current_score  \\\n",
       "0  Chennai Super Kings  Kolkata Knight Riders         119              4   \n",
       "1  Chennai Super Kings  Kolkata Knight Riders         118              4   \n",
       "2  Chennai Super Kings  Kolkata Knight Riders         117              4   \n",
       "3  Chennai Super Kings  Kolkata Knight Riders         116              4   \n",
       "4  Chennai Super Kings  Kolkata Knight Riders         115              5   \n",
       "\n",
       "          Venue  balls bowled  wicket_left  last_five  runs_x  \n",
       "0  Eden Gardens             1           10        NaN     235  \n",
       "1  Eden Gardens             2           10        NaN     235  \n",
       "2  Eden Gardens             3           10        NaN     235  \n",
       "3  Eden Gardens             4           10        NaN     235  \n",
       "4  Eden Gardens             5           10        NaN     235  "
      ]
     },
     "execution_count": 17,
     "metadata": {},
     "output_type": "execute_result"
    }
   ],
   "source": [
    "df.head()"
   ]
  },
  {
   "cell_type": "code",
   "execution_count": 18,
   "id": "3fe6ce28",
   "metadata": {
    "scrolled": true
   },
   "outputs": [],
   "source": [
    "# Calculate the number of complete overs and additional balls\n",
    "df['complete_overs'] = df['balls bowled'] // 6\n",
    "df['remaining_balls'] = df['balls bowled'] % 6\n",
    "\n",
    "# Calculate the total overs as a decimal\n",
    "df['total_overs'] = df['complete_overs'] + df['remaining_balls'] / 6.0\n",
    "\n",
    "# Calculate the current run rate\n",
    "df['crr'] = ipl_df['Innings Runs'] / df['total_overs']"
   ]
  },
  {
   "cell_type": "code",
   "execution_count": 19,
   "id": "512d11f5",
   "metadata": {
    "scrolled": true
   },
   "outputs": [],
   "source": [
    "df = df.drop(columns = ['complete_overs','remaining_balls','total_overs'], axis=1)"
   ]
  },
  {
   "cell_type": "code",
   "execution_count": 20,
   "id": "199d7a42",
   "metadata": {},
   "outputs": [
    {
     "data": {
      "text/plain": [
       "inf"
      ]
     },
     "execution_count": 20,
     "metadata": {},
     "output_type": "execute_result"
    }
   ],
   "source": [
    "df['crr'].max()"
   ]
  },
  {
   "cell_type": "code",
   "execution_count": 21,
   "id": "fb8c50f2",
   "metadata": {},
   "outputs": [
    {
     "name": "stdout",
     "output_type": "stream",
     "text": [
      "140\n"
     ]
    }
   ],
   "source": [
    "# Removing crr vaue error\n",
    "count_high_run_rate = (df['crr'] > 36).sum()\n",
    "print(count_high_run_rate)"
   ]
  },
  {
   "cell_type": "code",
   "execution_count": 22,
   "id": "6fcccc5d",
   "metadata": {},
   "outputs": [],
   "source": [
    "df = df[df['crr'] <= 36]"
   ]
  },
  {
   "cell_type": "code",
   "execution_count": 23,
   "id": "cd045363",
   "metadata": {},
   "outputs": [],
   "source": [
    "df.dropna(inplace=True)"
   ]
  },
  {
   "cell_type": "code",
   "execution_count": 24,
   "id": "5ce8e0bf",
   "metadata": {},
   "outputs": [],
   "source": [
    "df = df.drop(['balls bowled'],axis = 1)"
   ]
  },
  {
   "cell_type": "code",
   "execution_count": 25,
   "id": "93fb9aca",
   "metadata": {},
   "outputs": [
    {
     "data": {
      "text/plain": [
       "batting_team     0\n",
       "bowling_team     0\n",
       "balls_left       0\n",
       "current_score    0\n",
       "Venue            0\n",
       "wicket_left      0\n",
       "last_five        0\n",
       "runs_x           0\n",
       "crr              0\n",
       "dtype: int64"
      ]
     },
     "execution_count": 25,
     "metadata": {},
     "output_type": "execute_result"
    }
   ],
   "source": [
    "df.isnull().sum()"
   ]
  },
  {
   "cell_type": "code",
   "execution_count": 26,
   "id": "b38080d8",
   "metadata": {},
   "outputs": [],
   "source": [
    "df['Venue'] = df['Venue'].replace(['M Chinnaswamy Stadium', 'M.Chinnaswamy Stadium'], 'M Chinnaswamy Stadium')"
   ]
  },
  {
   "cell_type": "code",
   "execution_count": 27,
   "id": "48ee5a0d",
   "metadata": {},
   "outputs": [],
   "source": [
    "df['Venue'] = df['Venue'].replace(['Punjab Cricket Association Stadium', 'Punjab Cricket Association IS Bindra Stadium'], 'Punjab Cricket Association Stadium')"
   ]
  },
  {
   "cell_type": "code",
   "execution_count": 28,
   "id": "342fd7c4",
   "metadata": {},
   "outputs": [],
   "source": [
    "df['Venue'] = df['Venue'].replace(['Feroz Shah Kotla', 'Arun Jaitley Stadium'], 'Feroz Shah Kotla')"
   ]
  },
  {
   "cell_type": "code",
   "execution_count": 29,
   "id": "5dc7f070",
   "metadata": {},
   "outputs": [],
   "source": [
    "df['Venue'] = df['Venue'].replace(['Narendra Modi Stadium', 'Sardar Patel Stadium'], 'Narendra Modi Stadium')"
   ]
  },
  {
   "cell_type": "code",
   "execution_count": 30,
   "id": "45976ed4",
   "metadata": {},
   "outputs": [],
   "source": [
    "df['Venue'] = df['Venue'].replace(['Subrata Roy Sahara Stadium', 'Maharashtra Cricket Association Stadium '], 'Maharashtra Cricket Association Stadium')"
   ]
  },
  {
   "cell_type": "code",
   "execution_count": 31,
   "id": "20a7cea3",
   "metadata": {},
   "outputs": [
    {
     "data": {
      "text/plain": [
       "\"const_venue = ['Wankhede Stadium', 'Eden Gardens', 'MA Chidambaram Stadium',\\n               'Rajiv Gandhi International Stadium','M Chinnaswamy Stadium'\\n              , 'Feroz Shah Kotla', 'Sawai Mansingh Stadium','Punjab Cricket Association Stadium'\\n              , 'Dubai International Cricket Stadium', 'Maharashtra Cricket Association Stadium'\\n              , 'Dr DY Patil Sports Academy', 'Sharjah Cricket Stadium', 'Narendra Modi Stadium'\\n              , 'Bharat Ratna Shri Atal Bihari Vajpayee Ekana Cricket Stadium'\\n               , 'Himachal Pradesh Cricket Association Stadium', 'Sheikh Zayed Stadium']\""
      ]
     },
     "execution_count": 31,
     "metadata": {},
     "output_type": "execute_result"
    }
   ],
   "source": [
    "'''const_venue = ['Wankhede Stadium', 'Eden Gardens', 'MA Chidambaram Stadium',\n",
    "               'Rajiv Gandhi International Stadium','M Chinnaswamy Stadium'\n",
    "              , 'Feroz Shah Kotla', 'Sawai Mansingh Stadium','Punjab Cricket Association Stadium'\n",
    "              , 'Dubai International Cricket Stadium', 'Maharashtra Cricket Association Stadium'\n",
    "              , 'Dr DY Patil Sports Academy', 'Sharjah Cricket Stadium', 'Narendra Modi Stadium'\n",
    "              , 'Bharat Ratna Shri Atal Bihari Vajpayee Ekana Cricket Stadium'\n",
    "               , 'Himachal Pradesh Cricket Association Stadium', 'Sheikh Zayed Stadium']'''"
   ]
  },
  {
   "cell_type": "code",
   "execution_count": 32,
   "id": "f399246e",
   "metadata": {},
   "outputs": [
    {
     "data": {
      "text/plain": [
       "Wankhede Stadium                                                23361\n",
       "Eden Gardens                                                    17675\n",
       "Feroz Shah Kotla                                                17286\n",
       "M Chinnaswamy Stadium                                           17147\n",
       "MA Chidambaram Stadium                                          15892\n",
       "Rajiv Gandhi International Stadium                              14628\n",
       "Punjab Cricket Association Stadium                              12703\n",
       "Sawai Mansingh Stadium                                          10765\n",
       "Maharashtra Cricket Association Stadium                         10755\n",
       "Dubai International Cricket Stadium                              9195\n",
       "Dr DY Patil Sports Academy                                       7825\n",
       "Sharjah Cricket Stadium                                          5858\n",
       "Brabourne Stadium                                                5743\n",
       "Narendra Modi Stadium                                            5678\n",
       "Sheikh Zayed Stadium                                             5627\n",
       "Kingsmead                                                        3205\n",
       "Dr. Y.S. Rajasekhara Reddy ACA-VDCA Cricket Stadium              2660\n",
       "SuperSport Park                                                  2516\n",
       "Himachal Pradesh Cricket Association Stadium                     2341\n",
       "Saurashtra Cricket Association Stadium                           1855\n",
       "New Wanderers Stadium                                            1707\n",
       "Holkar Cricket Stadium                                           1703\n",
       "Zayed Cricket Stadium                                            1642\n",
       "Barabati Stadium                                                 1491\n",
       "St George's Park                                                 1474\n",
       "JSCA International Stadium Complex                               1468\n",
       "Bharat Ratna Shri Atal Bihari Vajpayee Ekana Cricket Stadium     1291\n",
       "Shaheed Veer Narayan Singh International Stadium                 1255\n",
       "Newlands                                                         1098\n",
       "Nehru Stadium                                                    1010\n",
       "Green Park                                                        805\n",
       "Vidarbha Cricket Association Stadium                              655\n",
       "De Beers Diamond Oval                                             638\n",
       "Buffalo Park                                                      628\n",
       "Barsapara Cricket Stadium                                         446\n",
       "OUTsurance Oval                                                   442\n",
       "Name: Venue, dtype: int64"
      ]
     },
     "execution_count": 32,
     "metadata": {},
     "output_type": "execute_result"
    }
   ],
   "source": [
    "df['Venue'].value_counts()"
   ]
  },
  {
   "cell_type": "code",
   "execution_count": 33,
   "id": "dcc1190e",
   "metadata": {},
   "outputs": [],
   "source": [
    "#df = df[df['Venue'].isin(const_venue)]"
   ]
  },
  {
   "cell_type": "code",
   "execution_count": 34,
   "id": "3644944e",
   "metadata": {},
   "outputs": [],
   "source": [
    "# Keeping only Consistent Teams\n",
    "const_teams = ['Kolkata Knight Riders', 'Chennai Super Kings', 'Rajasthan Royals',\n",
    "              'Mumbai Indians', 'Kings XI Punjab', 'Royal Challengers Bangalore',\n",
    "              'Delhi Daredevils', 'Sunrisers Hyderabad','Gujarat Titans','Lucknow Super Giants']"
   ]
  },
  {
   "cell_type": "code",
   "execution_count": 35,
   "id": "22d44548",
   "metadata": {},
   "outputs": [
    {
     "data": {
      "text/plain": [
       "(148688, 9)"
      ]
     },
     "execution_count": 35,
     "metadata": {},
     "output_type": "execute_result"
    }
   ],
   "source": [
    "df = df[(df['batting_team'].isin(const_teams)) & (df['bowling_team'].isin(const_teams))]\n",
    "df.shape"
   ]
  },
  {
   "cell_type": "code",
   "execution_count": 36,
   "id": "80e855ac",
   "metadata": {},
   "outputs": [],
   "source": [
    "eligible_Venue = df['Venue'].value_counts()[df['Venue'].value_counts() > 1200].index.tolist()"
   ]
  },
  {
   "cell_type": "code",
   "execution_count": 37,
   "id": "f4cea289",
   "metadata": {},
   "outputs": [],
   "source": [
    "df = df[df['Venue'].isin(eligible_Venue)]"
   ]
  },
  {
   "cell_type": "code",
   "execution_count": 38,
   "id": "03589bcd",
   "metadata": {},
   "outputs": [
    {
     "name": "stdout",
     "output_type": "stream",
     "text": [
      "(142184, 9)\n"
     ]
    },
    {
     "data": {
      "text/html": [
       "<div>\n",
       "<style scoped>\n",
       "    .dataframe tbody tr th:only-of-type {\n",
       "        vertical-align: middle;\n",
       "    }\n",
       "\n",
       "    .dataframe tbody tr th {\n",
       "        vertical-align: top;\n",
       "    }\n",
       "\n",
       "    .dataframe thead th {\n",
       "        text-align: right;\n",
       "    }\n",
       "</style>\n",
       "<table border=\"1\" class=\"dataframe\">\n",
       "  <thead>\n",
       "    <tr style=\"text-align: right;\">\n",
       "      <th></th>\n",
       "      <th>batting_team</th>\n",
       "      <th>bowling_team</th>\n",
       "      <th>balls_left</th>\n",
       "      <th>current_score</th>\n",
       "      <th>Venue</th>\n",
       "      <th>wicket_left</th>\n",
       "      <th>last_five</th>\n",
       "      <th>runs_x</th>\n",
       "      <th>crr</th>\n",
       "    </tr>\n",
       "  </thead>\n",
       "  <tbody>\n",
       "    <tr>\n",
       "      <th>29</th>\n",
       "      <td>Chennai Super Kings</td>\n",
       "      <td>Kolkata Knight Riders</td>\n",
       "      <td>90</td>\n",
       "      <td>45</td>\n",
       "      <td>Eden Gardens</td>\n",
       "      <td>10</td>\n",
       "      <td>45.0</td>\n",
       "      <td>235</td>\n",
       "      <td>9.000000</td>\n",
       "    </tr>\n",
       "    <tr>\n",
       "      <th>30</th>\n",
       "      <td>Chennai Super Kings</td>\n",
       "      <td>Kolkata Knight Riders</td>\n",
       "      <td>89</td>\n",
       "      <td>46</td>\n",
       "      <td>Eden Gardens</td>\n",
       "      <td>10</td>\n",
       "      <td>42.0</td>\n",
       "      <td>235</td>\n",
       "      <td>8.903226</td>\n",
       "    </tr>\n",
       "    <tr>\n",
       "      <th>31</th>\n",
       "      <td>Chennai Super Kings</td>\n",
       "      <td>Kolkata Knight Riders</td>\n",
       "      <td>88</td>\n",
       "      <td>50</td>\n",
       "      <td>Eden Gardens</td>\n",
       "      <td>10</td>\n",
       "      <td>46.0</td>\n",
       "      <td>235</td>\n",
       "      <td>9.375000</td>\n",
       "    </tr>\n",
       "    <tr>\n",
       "      <th>32</th>\n",
       "      <td>Chennai Super Kings</td>\n",
       "      <td>Kolkata Knight Riders</td>\n",
       "      <td>87</td>\n",
       "      <td>51</td>\n",
       "      <td>Eden Gardens</td>\n",
       "      <td>10</td>\n",
       "      <td>47.0</td>\n",
       "      <td>235</td>\n",
       "      <td>9.272727</td>\n",
       "    </tr>\n",
       "    <tr>\n",
       "      <th>33</th>\n",
       "      <td>Chennai Super Kings</td>\n",
       "      <td>Kolkata Knight Riders</td>\n",
       "      <td>86</td>\n",
       "      <td>57</td>\n",
       "      <td>Eden Gardens</td>\n",
       "      <td>10</td>\n",
       "      <td>53.0</td>\n",
       "      <td>235</td>\n",
       "      <td>10.058824</td>\n",
       "    </tr>\n",
       "  </tbody>\n",
       "</table>\n",
       "</div>"
      ],
      "text/plain": [
       "           batting_team           bowling_team  balls_left  current_score  \\\n",
       "29  Chennai Super Kings  Kolkata Knight Riders          90             45   \n",
       "30  Chennai Super Kings  Kolkata Knight Riders          89             46   \n",
       "31  Chennai Super Kings  Kolkata Knight Riders          88             50   \n",
       "32  Chennai Super Kings  Kolkata Knight Riders          87             51   \n",
       "33  Chennai Super Kings  Kolkata Knight Riders          86             57   \n",
       "\n",
       "           Venue  wicket_left  last_five  runs_x        crr  \n",
       "29  Eden Gardens           10       45.0     235   9.000000  \n",
       "30  Eden Gardens           10       42.0     235   8.903226  \n",
       "31  Eden Gardens           10       46.0     235   9.375000  \n",
       "32  Eden Gardens           10       47.0     235   9.272727  \n",
       "33  Eden Gardens           10       53.0     235  10.058824  "
      ]
     },
     "execution_count": 38,
     "metadata": {},
     "output_type": "execute_result"
    }
   ],
   "source": [
    "print(df.shape)\n",
    "df.head()"
   ]
  },
  {
   "cell_type": "code",
   "execution_count": 39,
   "id": "cbe0853d",
   "metadata": {},
   "outputs": [],
   "source": [
    "df = df.sample(df.shape[0])"
   ]
  },
  {
   "cell_type": "code",
   "execution_count": 40,
   "id": "4013bf56",
   "metadata": {},
   "outputs": [
    {
     "data": {
      "text/html": [
       "<div>\n",
       "<style scoped>\n",
       "    .dataframe tbody tr th:only-of-type {\n",
       "        vertical-align: middle;\n",
       "    }\n",
       "\n",
       "    .dataframe tbody tr th {\n",
       "        vertical-align: top;\n",
       "    }\n",
       "\n",
       "    .dataframe thead th {\n",
       "        text-align: right;\n",
       "    }\n",
       "</style>\n",
       "<table border=\"1\" class=\"dataframe\">\n",
       "  <thead>\n",
       "    <tr style=\"text-align: right;\">\n",
       "      <th></th>\n",
       "      <th>batting_team</th>\n",
       "      <th>bowling_team</th>\n",
       "      <th>balls_left</th>\n",
       "      <th>current_score</th>\n",
       "      <th>Venue</th>\n",
       "      <th>wicket_left</th>\n",
       "      <th>last_five</th>\n",
       "      <th>runs_x</th>\n",
       "      <th>crr</th>\n",
       "    </tr>\n",
       "  </thead>\n",
       "  <tbody>\n",
       "    <tr>\n",
       "      <th>211643</th>\n",
       "      <td>Mumbai Indians</td>\n",
       "      <td>Royal Challengers Bangalore</td>\n",
       "      <td>34</td>\n",
       "      <td>124</td>\n",
       "      <td>MA Chidambaram Stadium</td>\n",
       "      <td>7</td>\n",
       "      <td>40.0</td>\n",
       "      <td>159</td>\n",
       "      <td>8.651163</td>\n",
       "    </tr>\n",
       "    <tr>\n",
       "      <th>131385</th>\n",
       "      <td>Mumbai Indians</td>\n",
       "      <td>Chennai Super Kings</td>\n",
       "      <td>72</td>\n",
       "      <td>63</td>\n",
       "      <td>Brabourne Stadium</td>\n",
       "      <td>10</td>\n",
       "      <td>46.0</td>\n",
       "      <td>173</td>\n",
       "      <td>7.875000</td>\n",
       "    </tr>\n",
       "  </tbody>\n",
       "</table>\n",
       "</div>"
      ],
      "text/plain": [
       "          batting_team                 bowling_team  balls_left  \\\n",
       "211643  Mumbai Indians  Royal Challengers Bangalore          34   \n",
       "131385  Mumbai Indians          Chennai Super Kings          72   \n",
       "\n",
       "        current_score                   Venue  wicket_left  last_five  runs_x  \\\n",
       "211643            124  MA Chidambaram Stadium            7       40.0     159   \n",
       "131385             63       Brabourne Stadium           10       46.0     173   \n",
       "\n",
       "             crr  \n",
       "211643  8.651163  \n",
       "131385  7.875000  "
      ]
     },
     "execution_count": 40,
     "metadata": {},
     "output_type": "execute_result"
    }
   ],
   "source": [
    "df.sample(2)"
   ]
  },
  {
   "cell_type": "markdown",
   "id": "d2b4e8a8",
   "metadata": {},
   "source": [
    "## Model Training"
   ]
  },
  {
   "cell_type": "code",
   "execution_count": 41,
   "id": "fbbba41b",
   "metadata": {},
   "outputs": [],
   "source": [
    "X = df.drop(columns=['runs_x'])\n",
    "y = df['runs_x']\n",
    "from sklearn.model_selection import train_test_split\n",
    "X_train,X_test,y_train,y_test = train_test_split(X,y,test_size=0.2,random_state=1)"
   ]
  },
  {
   "cell_type": "code",
   "execution_count": 42,
   "id": "986512d6",
   "metadata": {},
   "outputs": [
    {
     "data": {
      "text/plain": [
       "(113747, 8)"
      ]
     },
     "execution_count": 42,
     "metadata": {},
     "output_type": "execute_result"
    }
   ],
   "source": [
    "X_train.shape"
   ]
  },
  {
   "cell_type": "code",
   "execution_count": 43,
   "id": "46301da9",
   "metadata": {},
   "outputs": [],
   "source": [
    "from sklearn.compose import ColumnTransformer\n",
    "from sklearn.preprocessing import OneHotEncoder\n",
    "from sklearn.pipeline import Pipeline\n",
    "from sklearn.preprocessing import StandardScaler\n",
    "from sklearn.ensemble import RandomForestRegressor\n",
    "from xgboost import XGBRegressor\n",
    "from sklearn.metrics import r2_score,mean_absolute_error"
   ]
  },
  {
   "cell_type": "code",
   "execution_count": 44,
   "id": "8e32355e",
   "metadata": {},
   "outputs": [],
   "source": [
    "trf = ColumnTransformer([\n",
    "    ('trf',OneHotEncoder(sparse=False,drop='first'),['batting_team','bowling_team','Venue'])\n",
    "]\n",
    ",remainder='passthrough')"
   ]
  },
  {
   "cell_type": "code",
   "execution_count": 45,
   "id": "365f3130",
   "metadata": {},
   "outputs": [],
   "source": [
    "pipe = Pipeline(steps=[\n",
    "    ('step1',trf),\n",
    "    ('step2',StandardScaler()),\n",
    "    ('step3',XGBRegressor(n_estimators=1000,learning_rate=0.2,max_depth=12,random_state=1))\n",
    "])"
   ]
  },
  {
   "cell_type": "code",
   "execution_count": 46,
   "id": "2279098d",
   "metadata": {},
   "outputs": [],
   "source": [
    "# Replace inf/-inf with NaN\n",
    "X_train.replace([np.inf, -np.inf], np.nan, inplace=True)\n",
    "\n",
    "# Then you can choose to fill NaNs with a value or drop them\n",
    "X_train.fillna(0, inplace=True)  # Option 1: Fill with 0 (or another value)\n",
    "X_train.dropna(inplace=True)     # Option 2: Drop rows with NaNs\n"
   ]
  },
  {
   "cell_type": "code",
   "execution_count": 47,
   "id": "5d50069e",
   "metadata": {
    "scrolled": true
   },
   "outputs": [
    {
     "name": "stderr",
     "output_type": "stream",
     "text": [
      "C:\\Users\\jaide\\anaconda3\\Lib\\site-packages\\sklearn\\preprocessing\\_encoders.py:972: FutureWarning: `sparse` was renamed to `sparse_output` in version 1.2 and will be removed in 1.4. `sparse_output` is ignored unless you leave `sparse` to its default value.\n",
      "  warnings.warn(\n"
     ]
    },
    {
     "name": "stdout",
     "output_type": "stream",
     "text": [
      "0.9310650493379875\n",
      "4.367695341282271\n"
     ]
    }
   ],
   "source": [
    "pipe.fit(X_train,y_train)\n",
    "y_pred = pipe.predict(X_test)\n",
    "print(r2_score(y_test,y_pred))\n",
    "print(mean_absolute_error(y_test,y_pred))"
   ]
  },
  {
   "cell_type": "markdown",
   "id": "50535b8d",
   "metadata": {},
   "source": [
    "### Predictions of 5 random test samples"
   ]
  },
  {
   "cell_type": "code",
   "execution_count": 55,
   "id": "73181c53",
   "metadata": {},
   "outputs": [
    {
     "name": "stderr",
     "output_type": "stream",
     "text": [
      "C:\\Users\\jaide\\anaconda3\\Lib\\site-packages\\sklearn\\preprocessing\\_encoders.py:972: FutureWarning: `sparse` was renamed to `sparse_output` in version 1.2 and will be removed in 1.4. `sparse_output` is ignored unless you leave `sparse` to its default value.\n",
      "  warnings.warn(\n"
     ]
    },
    {
     "name": "stdout",
     "output_type": "stream",
     "text": [
      "Sample index: 217063\n",
      "Test Data:\n",
      "batting_team                    Sunrisers Hyderabad\n",
      "bowling_team                        Kings XI Punjab\n",
      "balls_left                                       69\n",
      "current_score                                    73\n",
      "Venue            Punjab Cricket Association Stadium\n",
      "wicket_left                                       7\n",
      "last_five                                      37.0\n",
      "crr                                        8.588235\n",
      "Name: 217063, dtype: object\n",
      "Actual value: 207\n",
      "Predicted value: 205.2976531982422\n",
      "\n",
      "Sample index: 227560\n",
      "Test Data:\n",
      "batting_team     Royal Challengers Bangalore\n",
      "bowling_team                 Kings XI Punjab\n",
      "balls_left                                43\n",
      "current_score                             81\n",
      "Venue                  M Chinnaswamy Stadium\n",
      "wicket_left                                1\n",
      "last_five                               33.0\n",
      "crr                                 6.311688\n",
      "Name: 227560, dtype: object\n",
      "Actual value: 226\n",
      "Predicted value: 221.48416137695312\n",
      "\n",
      "Sample index: 159467\n",
      "Test Data:\n",
      "batting_team            Chennai Super Kings\n",
      "bowling_team                 Mumbai Indians\n",
      "balls_left                               24\n",
      "current_score                           109\n",
      "Venue            Dr DY Patil Sports Academy\n",
      "wicket_left                               5\n",
      "last_five                              41.0\n",
      "crr                                  6.8125\n",
      "Name: 159467, dtype: object\n",
      "Actual value: 168\n",
      "Predicted value: 168.82632446289062\n",
      "\n",
      "Sample index: 165880\n",
      "Test Data:\n",
      "batting_team     Kolkata Knight Riders\n",
      "bowling_team            Mumbai Indians\n",
      "balls_left                          27\n",
      "current_score                      134\n",
      "Venue                 Wankhede Stadium\n",
      "wicket_left                          6\n",
      "last_five                         44.0\n",
      "crr                           8.645161\n",
      "Name: 165880, dtype: object\n",
      "Actual value: 174\n",
      "Predicted value: 172.64942932128906\n",
      "\n",
      "Sample index: 93396\n",
      "Test Data:\n",
      "batting_team                    Sunrisers Hyderabad\n",
      "bowling_team                       Delhi Daredevils\n",
      "balls_left                                        2\n",
      "current_score                                   175\n",
      "Venue            Rajiv Gandhi International Stadium\n",
      "wicket_left                                       6\n",
      "last_five                                      49.0\n",
      "crr                                        8.898305\n",
      "Name: 93396, dtype: object\n",
      "Actual value: 191\n",
      "Predicted value: 191.7747802734375\n",
      "\n"
     ]
    }
   ],
   "source": [
    "import numpy as np\n",
    "from sklearn.metrics import r2_score, mean_absolute_error\n",
    "\n",
    "# Train the model\n",
    "pipe.fit(X_train, y_train)\n",
    "\n",
    "# Predict on the test set\n",
    "y_pred = pipe.predict(X_test)\n",
    "\n",
    "# Select a random sample of 5 test instances\n",
    "random_indices = np.random.choice(X_test.index, size=5, replace=False)\n",
    "random_samples = X_test.loc[random_indices]\n",
    "random_actuals = y_test.loc[random_indices]\n",
    "random_predictions = pipe.predict(random_samples)\n",
    "\n",
    "# Print the results\n",
    "for i in range(len(random_samples)):\n",
    "    print(f\"Sample index: {random_indices[i]}\")\n",
    "    print(\"Test Data:\")\n",
    "    print(random_samples.iloc[i])\n",
    "    print(f\"Actual value: {random_actuals.iloc[i]}\")\n",
    "    print(f\"Predicted value: {random_predictions[i]}\\n\")\n"
   ]
  },
  {
   "cell_type": "markdown",
   "id": "d9f4735e",
   "metadata": {},
   "source": [
    "### Predictions by making a Function"
   ]
  },
  {
   "cell_type": "code",
   "execution_count": 49,
   "id": "b22d8db2",
   "metadata": {},
   "outputs": [],
   "source": [
    "def score_predict(batting_team, bowling_team, balls_left, current_score, Venue, wicket_left, crr, last_five, model):\n",
    "    # Create a DataFrame with the given inputs\n",
    "    real_time_data = {\n",
    "        'batting_team': [batting_team],\n",
    "        'bowling_team': [bowling_team],\n",
    "        'balls_left': [balls_left],\n",
    "        'current_score': [current_score],\n",
    "        'Venue': [Venue],\n",
    "        'wicket_left': [wicket_left],\n",
    "        'last_five': [last_five],\n",
    "        'crr': [crr]\n",
    "    }\n",
    "    df_real_time = pd.DataFrame(real_time_data)\n",
    "    \n",
    "    # Predict using the pipeline on real-time data\n",
    "    pred = model.predict(df_real_time)\n",
    "    return int(round(pred[0]))"
   ]
  },
  {
   "cell_type": "code",
   "execution_count": 50,
   "id": "dd8dac6c",
   "metadata": {},
   "outputs": [
    {
     "name": "stdout",
     "output_type": "stream",
     "text": [
      "Predicted Score : 193 || Actual Score : 193\n"
     ]
    }
   ],
   "source": [
    "# Test 1 (2020 IPL Match)\n",
    "batting_team=\"Mumbai Indians\"\n",
    "bowling_team=\"Rajasthan Royals\"\n",
    "score = score_predict(batting_team, bowling_team, balls_left = 30, current_score = 125,\n",
    "                      Venue = 'Sheikh Zayed Stadium', wicket_left = 6,\n",
    "                      crr = 8.33, last_five = 35, model=pipe)\n",
    "print(f'Predicted Score : {score} || Actual Score : 193')"
   ]
  },
  {
   "cell_type": "code",
   "execution_count": 51,
   "id": "14eba6fa",
   "metadata": {},
   "outputs": [
    {
     "name": "stdout",
     "output_type": "stream",
     "text": [
      "Predicted Score : 218 || Actual Score : 214\n"
     ]
    }
   ],
   "source": [
    "# Test 2 (2018 IPL Match)\n",
    "batting_team=\"Royal Challengers Bangalore\"\n",
    "bowling_team=\"Sunrisers Hyderabad\"\n",
    "score = score_predict(batting_team, bowling_team, balls_left = 24, current_score = 163,\n",
    "                      Venue = 'M Chinnaswamy Stadium', wicket_left = 6,\n",
    "                      crr = 10.18, last_five = 69, model=pipe)\n",
    "print(f'Predicted Score : {score} || Actual Score : 214')"
   ]
  },
  {
   "cell_type": "code",
   "execution_count": 52,
   "id": "0b583702",
   "metadata": {},
   "outputs": [
    {
     "name": "stdout",
     "output_type": "stream",
     "text": [
      "Predicted Score : 216 || Actual Score : 231\n"
     ]
    }
   ],
   "source": [
    "# Test 3 (2024 IPL Match)\n",
    "batting_team=\"Gujarat Titans\"\n",
    "bowling_team=\"Chennai Super Kings\"\n",
    "score = score_predict(batting_team, bowling_team, balls_left = 24, current_score = 196, \n",
    "                      Venue = 'MA Chidambaram Stadium', wicket_left = 10, \n",
    "                      crr = 12.25, last_five= 66, model=pipe)\n",
    "print(f'Predicted Score : {score} || Actual Score : 231')"
   ]
  },
  {
   "cell_type": "code",
   "execution_count": 53,
   "id": "b42586b5",
   "metadata": {},
   "outputs": [
    {
     "name": "stdout",
     "output_type": "stream",
     "text": [
      "Predicted Score : 196 || Actual Score : 169\n"
     ]
    }
   ],
   "source": [
    "# Test 3 (2024 IPL Match)\n",
    "batting_team=\"Sunrisers Hyderabad\"\n",
    "bowling_team=\"Rajasthan Royals\"\n",
    "score = score_predict(batting_team, bowling_team, balls_left = 24, current_score = 136, \n",
    "                      Venue = 'MA Chidambaram Stadium', wicket_left = 4, \n",
    "                      crr = 8, last_five= 34, model=pipe)\n",
    "print(f'Predicted Score : {score} || Actual Score : 169')"
   ]
  },
  {
   "cell_type": "code",
   "execution_count": 54,
   "id": "ee567f5d",
   "metadata": {},
   "outputs": [
    {
     "name": "stdout",
     "output_type": "stream",
     "text": [
      "Predicted Score : 172 || Actual Score : 172\n"
     ]
    }
   ],
   "source": [
    "batting_team=\"Kolkata Knight Riders\"\n",
    "bowling_team=\"Chennai Super Kings\"\n",
    "score = score_predict(batting_team, bowling_team, balls_left = 42, current_score = 93, \n",
    "                      Venue = 'Dubai International Cricket Stadium', wicket_left = 7, \n",
    "                      crr = 7.15, last_five= 33, model=pipe)\n",
    "print(f'Predicted Score : {score} || Actual Score : 172')"
   ]
  },
  {
   "cell_type": "code",
   "execution_count": null,
   "id": "3491d069",
   "metadata": {},
   "outputs": [],
   "source": []
  }
 ],
 "metadata": {
  "kernelspec": {
   "display_name": "Python 3 (ipykernel)",
   "language": "python",
   "name": "python3"
  },
  "language_info": {
   "codemirror_mode": {
    "name": "ipython",
    "version": 3
   },
   "file_extension": ".py",
   "mimetype": "text/x-python",
   "name": "python",
   "nbconvert_exporter": "python",
   "pygments_lexer": "ipython3",
   "version": "3.11.4"
  }
 },
 "nbformat": 4,
 "nbformat_minor": 5
}
